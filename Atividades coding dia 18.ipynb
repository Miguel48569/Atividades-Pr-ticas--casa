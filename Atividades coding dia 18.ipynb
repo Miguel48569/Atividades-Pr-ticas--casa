{
 "cells": [
  {
   "cell_type": "code",
   "execution_count": 2,
   "metadata": {},
   "outputs": [
    {
     "name": "stdout",
     "output_type": "stream",
     "text": [
      "A letra é uma consoante.\n"
     ]
    }
   ],
   "source": [
    "#1)Verificar se uma letra é vogal ou consoante\n",
    "\n",
    "letra = input(\"Digite uma letra: \").lower()\n",
    "\n",
    "if letra in 'aeiou':\n",
    "    print(\"A letra é uma vogal.\")\n",
    "elif letra.isalpha():\n",
    "    print(\"A letra é uma consoante.\")\n",
    "else:\n",
    "    print(\"Isso não é uma letra.\")\n"
   ]
  },
  {
   "cell_type": "code",
   "execution_count": 3,
   "metadata": {},
   "outputs": [
    {
     "name": "stdout",
     "output_type": "stream",
     "text": [
      "Você deve comprar o segundo produto.\n"
     ]
    }
   ],
   "source": [
    "#2) Informar o produto mais barato\n",
    "\n",
    "preco1 = float(input(\"Digite o preço do primeiro produto: \"))\n",
    "preco2 = float(input(\"Digite o preço do segundo produto: \"))\n",
    "preco3 = float(input(\"Digite o preço do terceiro produto: \"))\n",
    "\n",
    "if preco1 < preco2 and preco1 < preco3:\n",
    "    print(\"Você deve comprar o primeiro produto.\")\n",
    "elif preco2 < preco1 and preco2 < preco3:\n",
    "    print(\"Você deve comprar o segundo produto.\")\n",
    "else:\n",
    "    print(\"Você deve comprar o terceiro produto.\")\n"
   ]
  },
  {
   "cell_type": "code",
   "execution_count": 9,
   "metadata": {},
   "outputs": [
    {
     "name": "stdout",
     "output_type": "stream",
     "text": [
      "85 45 12\n"
     ]
    }
   ],
   "source": [
    "#3) Mostrar três números em ordem decrescente\n",
    "\n",
    "num1 = int(input(\"Digite o primeiro número: \"))\n",
    "num2 = int(input(\"Digite o segundo número: \"))\n",
    "num3 = int(input(\"Digite o terceiro número: \"))\n",
    "\n",
    "if num1 >= num2 and num1 >= num3:\n",
    "    if num2 >= num3:\n",
    "        print(num1, num2, num3)\n",
    "    else:\n",
    "        print(num1, num3, num2)\n",
    "elif num2 >= num1 and num2 >= num3:\n",
    "    if num1 >= num3:\n",
    "        print(num2, num1, num3)\n",
    "    else:\n",
    "        print(num2, num3, num1)\n",
    "else:\n",
    "    if num1 >= num2:\n",
    "        print(num3, num1, num2)\n",
    "    else:\n",
    "        print(num3, num2, num1)\n",
    "\n",
    "\n"
   ]
  },
  {
   "cell_type": "code",
   "execution_count": 8,
   "metadata": {},
   "outputs": [
    {
     "name": "stdout",
     "output_type": "stream",
     "text": [
      "Bom Dia!\n"
     ]
    }
   ],
   "source": [
    "#4) Perguntar o turno de estudo e imprimir a mensagem correspondente\n",
    "\n",
    "turno = input(\"Em que turno você estuda? Digite M para matutino, V para vespertino ou N para noturno: \").upper()\n",
    "\n",
    "if turno == 'M':\n",
    "    print(\"Bom Dia!\")\n",
    "elif turno == 'V':\n",
    "    print(\"Boa Tarde!\")\n",
    "elif turno == 'N':\n",
    "    print(\"Boa Noite!\")\n",
    "else:\n",
    "    print(\"Valor Inválido!\")\n"
   ]
  },
  {
   "cell_type": "code",
   "execution_count": 11,
   "metadata": {},
   "outputs": [
    {
     "name": "stdout",
     "output_type": "stream",
     "text": [
      "Valor inválido\n"
     ]
    }
   ],
   "source": [
    "#5) Exibir o dia correspondente da semana\n",
    "\n",
    "dia_numero = int(input(\"Digite um número (1-7) para saber o dia da semana: \"))\n",
    "\n",
    "if dia_numero == 1:\n",
    "    print(\"Domingo\")\n",
    "elif dia_numero == 2:\n",
    "    print(\"Segunda-feira\")\n",
    "elif dia_numero == 3:\n",
    "    print(\"Terça-feira\")\n",
    "elif dia_numero == 4:\n",
    "    print(\"Quarta-feira\")\n",
    "elif dia_numero == 5:\n",
    "    print(\"Quinta-feira\")\n",
    "elif dia_numero == 6:\n",
    "    print(\"Sexta-feira\")\n",
    "elif dia_numero == 7:\n",
    "    print(\"Sábado\")\n",
    "else:\n",
    "    print(\"Valor inválido\")\n"
   ]
  },
  {
   "cell_type": "code",
   "execution_count": 12,
   "metadata": {},
   "outputs": [
    {
     "name": "stdout",
     "output_type": "stream",
     "text": [
      "Notas: 7.0, 5.0\n",
      "Média: 6.0\n",
      "Conceito: C\n",
      "APROVADO\n"
     ]
    }
   ],
   "source": [
    "#5) Calcular média e exibir conceito e aprovação\n",
    "\n",
    "nota1 = float(input(\"Digite a primeira nota: \"))\n",
    "nota2 = float(input(\"Digite a segunda nota: \"))\n",
    "\n",
    "media = (nota1 + nota2) / 2\n",
    "\n",
    "if 9.0 <= media <= 10.0:\n",
    "    conceito = 'A'\n",
    "elif 7.5 <= media < 9.0:\n",
    "    conceito = 'B'\n",
    "elif 6.0 <= media < 7.5:\n",
    "    conceito = 'C'\n",
    "elif 4.0 <= media < 6.0:\n",
    "    conceito = 'D'\n",
    "else:\n",
    "    conceito = 'E'\n",
    "\n",
    "print(f\"Notas: {nota1}, {nota2}\")\n",
    "print(f\"Média: {media}\")\n",
    "print(f\"Conceito: {conceito}\")\n",
    "\n",
    "if conceito in ['A', 'B', 'C']:\n",
    "    print(\"APROVADO\")\n",
    "else:\n",
    "    print(\"REPROVADO\")\n"
   ]
  },
  {
   "cell_type": "code",
   "execution_count": 14,
   "metadata": {},
   "outputs": [
    {
     "name": "stdout",
     "output_type": "stream",
     "text": [
      "O ano 2022 não é bissexto.\n"
     ]
    }
   ],
   "source": [
    "#6) Verificar se um ano é bissexto\n",
    "\n",
    "ano = int(input(\"Digite um ano: \"))\n",
    "\n",
    "if (ano % 4 == 0 and ano % 100 != 0) or (ano % 400 == 0):\n",
    "    print(f\"O ano {ano} é bissexto.\")\n",
    "else:\n",
    "    print(f\"O ano {ano} não é bissexto.\")\n"
   ]
  },
  {
   "cell_type": "code",
   "execution_count": 20,
   "metadata": {},
   "outputs": [
    {
     "name": "stdout",
     "output_type": "stream",
     "text": [
      "Resultado: 8.0 (Número par, positivo, inteiro)\n"
     ]
    }
   ],
   "source": [
    "#7) Realizar uma operação matemática básica e informar características do resultado\n",
    "\n",
    "num1 = float(input(\"Digite o primeiro número: \"))\n",
    "num2 = float(input(\"Digite o segundo número: \"))\n",
    "operacao = input(\"Digite a operação desejada (soma, subtracao, multiplicacao, divisao, exponenciacao): \").lower()\n",
    "\n",
    "if operacao == 'soma':\n",
    "    resultado = num1 + num2\n",
    "elif operacao == 'subtracao':\n",
    "    resultado = num1 - num2\n",
    "elif operacao == 'multiplicacao':\n",
    "    resultado = num1 * num2\n",
    "elif operacao == 'divisao':\n",
    "    if num2 != 0:\n",
    "        resultado = num1 / num2\n",
    "    else:\n",
    "        resultado = \"Erro: Divisão por zero\"\n",
    "elif operacao == 'exponenciacao':\n",
    "    resultado = num1 ** num2\n",
    "else:\n",
    "    resultado = \"Operação inválida\"\n",
    "\n",
    "if isinstance(resultado, (int, float)):\n",
    "    paridade = \"par\" if resultado % 2 == 0 else \"ímpar\"\n",
    "    positividade = \"positivo\" if resultado > 0 else \"negativo\" if resultado < 0 else \"neutro\"\n",
    "    tipo = \"inteiro\" if resultado.is_integer() else \"decimal\"\n",
    "    print(f\"Resultado: {resultado} (Número {paridade}, {positividade}, {tipo})\")\n",
    "else:\n",
    "    print(resultado)\n",
    "\n"
   ]
  },
  {
   "cell_type": "code",
   "execution_count": 21,
   "metadata": {},
   "outputs": [
    {
     "name": "stdout",
     "output_type": "stream",
     "text": [
      "Sua idade é 18.\n"
     ]
    }
   ],
   "source": [
    "#8) Solicitar idade e exibir informação\n",
    "\n",
    "idade = int(input(\"Digite a sua idade: \"))\n",
    "\n",
    "if 0 <= idade <= 150:\n",
    "    print(f\"Sua idade é {idade}.\")\n",
    "else:\n",
    "    print(\"Valor inválido.\")\n"
   ]
  },
  {
   "cell_type": "code",
   "execution_count": 22,
   "metadata": {},
   "outputs": [
    {
     "name": "stdout",
     "output_type": "stream",
     "text": [
      "Soma dos números: 30.0\n",
      "Média dos números: 6.0\n"
     ]
    }
   ],
   "source": [
    "#9) Ler 5 números, calcular a soma e a média\n",
    "\n",
    "numeros = []\n",
    "for i in range(5):\n",
    "    num = float(input(f\"Digite o {i+1}º número: \"))\n",
    "    numeros.append(num)\n",
    "\n",
    "soma = sum(numeros)\n",
    "media = soma / 5\n",
    "\n",
    "print(f\"Soma dos números: {soma}\")\n",
    "print(f\"Média dos números: {media}\")\n"
   ]
  },
  {
   "cell_type": "code",
   "execution_count": 26,
   "metadata": {},
   "outputs": [
    {
     "name": "stdout",
     "output_type": "stream",
     "text": [
      "O número 68 não é primo.\n"
     ]
    }
   ],
   "source": [
    "#10) Verificar se um número é primo\n",
    "\n",
    "numero = int(input(\"Digite um número inteiro: \"))\n",
    "\n",
    "if numero > 1:\n",
    "    for i in range(2, int(numero ** 0.5) + 1):\n",
    "        if numero % i == 0:\n",
    "            print(f\"O número {numero} não é primo.\")\n",
    "            break\n",
    "    else:\n",
    "        print(f\"O número {numero} é primo.\")\n",
    "else:\n",
    "    print(f\"O número {numero} não é primo.\")\n"
   ]
  },
  {
   "cell_type": "code",
   "execution_count": 34,
   "metadata": {},
   "outputs": [
    {
     "name": "stdout",
     "output_type": "stream",
     "text": [
      "Menor temperatura: 12.0\n",
      "Maior temperatura: 30.0\n",
      "Média das temperaturas: 24.0\n"
     ]
    }
   ],
   "source": [
    "#11) Ler 5 temperaturas e exibir a menor, maior e média\n",
    "\n",
    "temperaturas = []\n",
    "soma = 0\n",
    "\n",
    "for i in range(5):\n",
    "    temp = float(input(f\"Digite a {i+1}ª temperatura: \"))\n",
    "    temperaturas.append(temp)\n",
    "    soma += temp\n",
    "\n",
    "menor = temperaturas[0]\n",
    "maior = temperaturas[0]\n",
    "\n",
    "for temp in temperaturas:\n",
    "    if temp < menor:\n",
    "        menor = temp\n",
    "    if temp > maior:\n",
    "        maior = temp\n",
    "\n",
    "media = soma / 5\n",
    "\n",
    "print(f\"Menor temperatura: {menor}\")\n",
    "print(f\"Maior temperatura: {maior}\")\n",
    "print(f\"Média das temperaturas: {media}\")\n",
    "\n"
   ]
  },
  {
   "cell_type": "code",
   "execution_count": 33,
   "metadata": {},
   "outputs": [
    {
     "name": "stdout",
     "output_type": "stream",
     "text": [
      "Saldo médio: 1000.0\n",
      "Percentual de crédito: 40%\n",
      "Valor do crédito: 400.0\n"
     ]
    }
   ],
   "source": [
    "#12) Calcular crédito especial com base no saldo médio\n",
    "\n",
    "saldo_medio = float(input(\"Digite o saldo médio do último ano: \"))\n",
    "\n",
    "if 0 <= saldo_medio <= 200:\n",
    "    credito = 0\n",
    "    percentual = 0\n",
    "elif 201 <= saldo_medio <= 400:\n",
    "    percentual = 20\n",
    "    credito = saldo_medio * percentual / 100\n",
    "elif 401 <= saldo_medio <= 600:\n",
    "    percentual = 30\n",
    "    credito = saldo_medio * percentual / 100\n",
    "elif saldo_medio > 600:\n",
    "    percentual = 40\n",
    "    credito = saldo_medio * percentual / 100\n",
    "else:\n",
    "    print(\"Saldo médio inválido.\")\n",
    "    credito = 0\n",
    "    percentual = 0\n",
    "\n",
    "print(f\"Saldo médio: {saldo_medio}\")\n",
    "print(f\"Percentual de crédito: {percentual}%\")\n",
    "print(f\"Valor do crédito: {credito}\")\n"
   ]
  },
  {
   "cell_type": "code",
   "execution_count": 37,
   "metadata": {},
   "outputs": [
    {
     "name": "stdout",
     "output_type": "stream",
     "text": [
      "miguel, você poderá se aposentar em 2071.\n"
     ]
    }
   ],
   "source": [
    "#13) Calcular o ano de aposentadoria\n",
    "\n",
    "nome = input('Diga o seu nome: ')\n",
    "idade = int(input(f'{nome}, quantos anos você tem? '))\n",
    "\n",
    "ano_atual = 2024\n",
    "idade_aposentadoria = 65\n",
    "anos_restantes = idade_aposentadoria - idade\n",
    "ano_aposentadoria = ano_atual + anos_restantes\n",
    "\n",
    "if anos_restantes > 0:\n",
    "    print(f'{nome}, você poderá se aposentar em {ano_aposentadoria}.')\n",
    "else:\n",
    "    print(f'{nome}, você já está na idade de aposentadoria ou além dela.')\n"
   ]
  },
  {
   "cell_type": "code",
   "execution_count": 39,
   "metadata": {},
   "outputs": [
    {
     "name": "stdout",
     "output_type": "stream",
     "text": [
      "\n",
      "Folha de Pagamento:\n",
      "Salário Bruto: R$ 2000.00\n",
      "Desconto do Imposto de Renda: R$ 0.00\n",
      "Desconto do Sindicato: R$ 60.00\n",
      "FGTS: R$ 220.00\n",
      "Salário Líquido: R$ 1940.00\n"
     ]
    }
   ],
   "source": [
    "#14) Calcular folha de pagamento\n",
    "\n",
    "valor_hora = float(input(\"Qual o valor da sua hora de trabalho? \"))\n",
    "horas_trabalhadas = float(input(\"Quantas horas você trabalhou neste mês? \"))\n",
    "\n",
    "salario_bruto = valor_hora * horas_trabalhadas\n",
    "\n",
    "# Determinar a porcentagem de IR\n",
    "if salario_bruto <= 2112.00:\n",
    "    porcentagem_ir = 0\n",
    "elif salario_bruto <= 3751.05:\n",
    "    porcentagem_ir = 0.075\n",
    "elif salario_bruto <= 4664.68:\n",
    "    porcentagem_ir = 0.225\n",
    "else:\n",
    "    porcentagem_ir = 0.275\n",
    "\n",
    "desconto_ir = salario_bruto * porcentagem_ir\n",
    "\n",
    "# Desconto do Sindicato e FGTS\n",
    "desconto_sindicato = salario_bruto * 0.03\n",
    "fgts = salario_bruto * 0.11\n",
    "\n",
    "# Salário líquido\n",
    "salario_liquido = salario_bruto - desconto_ir - desconto_sindicato\n",
    "\n",
    "print(\"\\nFolha de Pagamento:\")\n",
    "print(f\"Salário Bruto: R$ {salario_bruto:.2f}\")\n",
    "print(f\"Desconto do Imposto de Renda: R$ {desconto_ir:.2f}\")\n",
    "print(f\"Desconto do Sindicato: R$ {desconto_sindicato:.2f}\")\n",
    "print(f\"FGTS: R$ {fgts:.2f}\")\n",
    "print(f\"Salário Líquido: R$ {salario_liquido:.2f}\")\n"
   ]
  }
 ],
 "metadata": {
  "kernelspec": {
   "display_name": "Python 3",
   "language": "python",
   "name": "python3"
  },
  "language_info": {
   "codemirror_mode": {
    "name": "ipython",
    "version": 3
   },
   "file_extension": ".py",
   "mimetype": "text/x-python",
   "name": "python",
   "nbconvert_exporter": "python",
   "pygments_lexer": "ipython3",
   "version": "3.12.3"
  }
 },
 "nbformat": 4,
 "nbformat_minor": 2
}
